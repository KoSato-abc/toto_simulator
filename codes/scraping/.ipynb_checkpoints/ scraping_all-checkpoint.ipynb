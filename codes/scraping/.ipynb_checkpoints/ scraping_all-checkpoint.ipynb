{
 "cells": [
  {
   "cell_type": "code",
   "execution_count": null,
   "id": "emerging-accused",
   "metadata": {},
   "outputs": [],
   "source": []
  },
  {
   "cell_type": "code",
   "execution_count": null,
   "id": "prepared-willow",
   "metadata": {},
   "outputs": [],
   "source": [
    "# ipynb用のimport処理\n",
    "import ipynb_import_lib\n",
    "football_lab = ipynb_import_lib.import_ipynb(\"football_lab/football_lab.ipynb\")\n",
    "j_league_data_site = ipynb_import_lib.import_ipynb(\"j_league_data_site/j_league_data_site.ipynb\")"
   ]
  },
  {
   "cell_type": "code",
   "execution_count": null,
   "id": "altered-melissa",
   "metadata": {},
   "outputs": [],
   "source": [
    "class  scraping_all():\n",
    "    \n",
    "    def __init__(self):\n",
    "        self.fbl = football_lab.football_lab()\n",
    "        self.jlds = j_league_data_site.j_league_data_site()\n",
    "        \n",
    "    def scraping_and_clean(self, only_new_data_flg):\n",
    "        \n",
    "        self.fbl.scraping_and_clean(only_new_data_flg)\n",
    "        self.jlds.scraping_and_clean(only_new_data_flg)\n",
    "    \n",
    "    "
   ]
  }
 ],
 "metadata": {
  "kernelspec": {
   "display_name": "Python 3",
   "language": "python",
   "name": "python3"
  },
  "language_info": {
   "codemirror_mode": {
    "name": "ipython",
    "version": 3
   },
   "file_extension": ".py",
   "mimetype": "text/x-python",
   "name": "python",
   "nbconvert_exporter": "python",
   "pygments_lexer": "ipython3",
   "version": "3.8.8"
  }
 },
 "nbformat": 4,
 "nbformat_minor": 5
}

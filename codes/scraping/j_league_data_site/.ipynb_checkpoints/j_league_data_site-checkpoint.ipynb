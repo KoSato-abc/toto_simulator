{
 "cells": [
  {
   "cell_type": "code",
   "execution_count": 1,
   "id": "reported-sarah",
   "metadata": {},
   "outputs": [
    {
     "name": "stdout",
     "output_type": "stream",
     "text": [
      "/Users/satouwataru/Desktop/DiveIntoCode/git/diveintocode-ml/GraduationWork/v1/codes/scraping\n"
     ]
    }
   ],
   "source": [
    "cd .."
   ]
  },
  {
   "cell_type": "code",
   "execution_count": 2,
   "id": "instrumental-display",
   "metadata": {},
   "outputs": [
    {
     "name": "stdout",
     "output_type": "stream",
     "text": [
      "/Users/satouwataru/Desktop/DiveIntoCode/git/diveintocode-ml/GraduationWork/v1/codes\n"
     ]
    }
   ],
   "source": [
    "cd .."
   ]
  },
  {
   "cell_type": "code",
   "execution_count": 3,
   "id": "naughty-gambling",
   "metadata": {},
   "outputs": [
    {
     "name": "stdout",
     "output_type": "stream",
     "text": [
      "/Users/satouwataru/Desktop/DiveIntoCode/git/diveintocode-ml/GraduationWork/v1\n"
     ]
    }
   ],
   "source": [
    "cd .."
   ]
  },
  {
   "cell_type": "code",
   "execution_count": 4,
   "id": "seasonal-literature",
   "metadata": {},
   "outputs": [],
   "source": [
    "import numpy as np\n",
    "import pandas as pd\n",
    "import time\n",
    "import datetime\n",
    "import urllib.parse\n",
    "from urllib.error import HTTPError\n",
    "\n",
    "from codes.scraping.j_league_data_site import j_match_schedule, j_rank_table, j_starting_member"
   ]
  },
  {
   "cell_type": "code",
   "execution_count": 5,
   "id": "chronic-recall",
   "metadata": {},
   "outputs": [],
   "source": [
    "class j_league_data_site():\n",
    "    \n",
    "    def __init__(self):\n",
    "        self.jMatchSchedule = j_match_schedule.j_match_schedule()\n",
    "        self.jRankTable = j_rank_table.j_rank_table()\n",
    "        self.jStartingMember = j_starting_member.j_starting_member()\n",
    "    \n",
    "    def  scraping(self, only_new_data_flg):\n",
    "        \n",
    "        self.jMatchSchedule.scraping(only_new_data_flg)\n",
    "        self.jRankTable.scraping(only_new_data_flg)\n",
    "        self.jStartingMember.scraping(only_new_data_flg)\n",
    "    \n",
    "    def  clean(self):\n",
    "        \n",
    "        self.jMatchSchedule.clean()\n",
    "        self.jRankTable.clean()\n",
    "        self.jStartingMember.clean()\n",
    "    \n",
    "    def  scraping_and_clean(self, only_new_data_flg):\n",
    "        \n",
    "        self.scraping(only_new_data_flg)\n",
    "        self.clean()"
   ]
  },
  {
   "cell_type": "code",
   "execution_count": 6,
   "id": "choice-principal",
   "metadata": {},
   "outputs": [],
   "source": [
    "j = j_league_data_site()"
   ]
  },
  {
   "cell_type": "code",
   "execution_count": 7,
   "id": "incoming-border",
   "metadata": {},
   "outputs": [],
   "source": [
    "j.clean()"
   ]
  },
  {
   "cell_type": "code",
   "execution_count": null,
   "id": "fewer-arrest",
   "metadata": {},
   "outputs": [],
   "source": []
  }
 ],
 "metadata": {
  "kernelspec": {
   "display_name": "Python 3",
   "language": "python",
   "name": "python3"
  },
  "language_info": {
   "codemirror_mode": {
    "name": "ipython",
    "version": 3
   },
   "file_extension": ".py",
   "mimetype": "text/x-python",
   "name": "python",
   "nbconvert_exporter": "python",
   "pygments_lexer": "ipython3",
   "version": "3.8.8"
  }
 },
 "nbformat": 4,
 "nbformat_minor": 5
}

{
 "cells": [
  {
   "cell_type": "code",
   "execution_count": 1,
   "id": "incoming-student",
   "metadata": {},
   "outputs": [
    {
     "name": "stdout",
     "output_type": "stream",
     "text": [
      "/Users/satouwataru/Desktop/DiveIntoCode/git/diveintocode-ml/GraduationWork/v4/codes/scraping\n"
     ]
    }
   ],
   "source": [
    "cd .."
   ]
  },
  {
   "cell_type": "code",
   "execution_count": 2,
   "id": "stainless-agent",
   "metadata": {},
   "outputs": [
    {
     "name": "stdout",
     "output_type": "stream",
     "text": [
      "/Users/satouwataru/Desktop/DiveIntoCode/git/diveintocode-ml/GraduationWork/v4/codes\n"
     ]
    }
   ],
   "source": [
    "cd .."
   ]
  },
  {
   "cell_type": "code",
   "execution_count": 3,
   "id": "revolutionary-power",
   "metadata": {},
   "outputs": [
    {
     "name": "stdout",
     "output_type": "stream",
     "text": [
      "/Users/satouwataru/Desktop/DiveIntoCode/git/diveintocode-ml/GraduationWork/v4\n"
     ]
    }
   ],
   "source": [
    "cd .."
   ]
  },
  {
   "cell_type": "code",
   "execution_count": 7,
   "id": "economic-danger",
   "metadata": {},
   "outputs": [],
   "source": [
    "import numpy as np\n",
    "import pandas as pd\n",
    "import urllib.parse\n",
    "import codes.common as c\n",
    "import time\n",
    "import re\n",
    "\n",
    "class j_match_schedule():\n",
    "    \n",
    "    def __init__(self):\n",
    "        self.common = c.common()\n",
    "        self.common.PY_NAME = 'j_match_schedule'\n",
    "        self.output_dir = 'data/scraping/j_league_data_site/'\n",
    "        \n",
    "    def scraping(self):\n",
    "        self.common.write_log(msg = 'スクレイピング開始')\n",
    "        URL_HEAD = \"https://data.j-league.or.jp/SFMS01/search?competition_years=\"\n",
    "        URL_FOOT = \"&tv_relay_station_name=\"\n",
    "        now_year = self.common.get_now_year()\n",
    "        \n",
    "        df_result = None\n",
    "        \n",
    "        for year in range(self.common.FROM_YEAR, now_year+1):\n",
    "            \n",
    "            url = URL_HEAD + str(year) + URL_FOOT\n",
    "            self.common.write_log(msg = '処理中：' + str(year))\n",
    "            self.common.write_log(msg = 'url=' + url)\n",
    "            self.common.sleep() # スリープ処理\n",
    "            df_tmp = pd.DataFrame(pd.read_html(url)[0]) # データ取得\n",
    "\n",
    "            df_result = pd.concat([df_result, df_tmp])\n",
    "            \n",
    "        self.common.write_log(msg = 'スクレイピング終了')\n",
    "        df_result.to_csv( self.output_dir + \"j_match_schedule.csv\")\n",
    "        \n",
    "    def clean(self):\n",
    "        self.common.write_log(msg = 'お掃除開始')\n",
    "        df = pd.read_csv(self.output_dir + \"j_match_schedule.csv\", index_col=0)\n",
    "        \n",
    "        section_list = []\n",
    "        yyyyMMdd_list = []\n",
    "        for i, row in df.iterrows():\n",
    "            section = row[\"節\"]\n",
    "            year = str(row[\"年度\"])\n",
    "            day = row[\"試合日\"]\n",
    "\n",
    "            if section is np.nan:\n",
    "                section_list += [0]\n",
    "            else:\n",
    "                section_m = re.findall('第(.*)節', section)\n",
    "                if len(section_m) == 0:\n",
    "                    section_list += [0]\n",
    "                else:\n",
    "                    section_list += section_m\n",
    "\n",
    "            if day == \"未定\":\n",
    "                yyyyMMdd_list += [day]\n",
    "            else:\n",
    "                month = re.findall('(.*)/', day)[0]\n",
    "                day = re.findall('/(.*)\\(', day)[0]\n",
    "                yyyyMMdd_list += [year+month+day]\n",
    "\n",
    "        df.drop(columns = [\"節\", \"試合日\"], inplace = True)\n",
    "        df = df.assign(節 = section_list, 試合日 = yyyyMMdd_list)\n",
    "        \n",
    "        # チーム名の統一\n",
    "        df = self.common.rename_team(df, 'ホーム')\n",
    "        df = self.common.rename_team(df, 'アウェイ')\n",
    "        # 表記統一\n",
    "        df['大会'] = df['大会'].apply(lambda x : x.replace('Ｊ１ １ｓｔ', 'J1').replace('Ｊ１ ２ｎｄ', 'J1').replace('Ｊ１', 'J1'))\n",
    "        df['大会'] = df['大会'].apply(lambda x : x.replace('Ｊ２', 'J2'))\n",
    "        df['大会'] = df['大会'].apply(lambda x : x.replace('Ｊ３', 'J3'))\n",
    "        df['スコア'] = df['スコア'].apply(lambda x : x.replace('vs', '未実施'))\n",
    "        # 欠損値処理\n",
    "        df.fillna({'インターネット中継・TV放送': 'なし', '入場者数': 0, 'K/O時刻': '00:00'}, inplace = True)\n",
    "        df = df.rename(columns={'試合日': '年月日', 'ホーム': 'H_team', 'アウェイ': 'A_team', '大会': 'カテゴリ'})\n",
    "        # 整理\n",
    "        columns_list = ['年度', '年月日', 'カテゴリ', '節', 'H_team', 'A_team', 'スコア', 'スタジアム', 'K/O時刻', '入場者数', 'インターネット中継・TV放送']\n",
    "        df = df.reindex(columns=columns_list)\n",
    "        df = df.reset_index(drop=True).copy()\n",
    "        # 出力\n",
    "        df.to_csv(self.output_dir + \"j_match_schedule_cleaned.csv\")\n",
    "        self.common.write_log(msg = 'お掃除終了')"
   ]
  }
 ],
 "metadata": {
  "kernelspec": {
   "display_name": "Python 3",
   "language": "python",
   "name": "python3"
  },
  "language_info": {
   "codemirror_mode": {
    "name": "ipython",
    "version": 3
   },
   "file_extension": ".py",
   "mimetype": "text/x-python",
   "name": "python",
   "nbconvert_exporter": "python",
   "pygments_lexer": "ipython3",
   "version": "3.8.8"
  }
 },
 "nbformat": 4,
 "nbformat_minor": 5
}

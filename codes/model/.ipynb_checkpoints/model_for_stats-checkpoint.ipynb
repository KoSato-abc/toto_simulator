{
 "cells": [
  {
   "cell_type": "code",
   "execution_count": 1,
   "id": "fifth-aspect",
   "metadata": {},
   "outputs": [
    {
     "name": "stdout",
     "output_type": "stream",
     "text": [
      "/Users/satouwataru/Desktop/DiveIntoCode/git/diveintocode-ml/GraduationWork/v1/codes\n"
     ]
    }
   ],
   "source": [
    "cd .."
   ]
  },
  {
   "cell_type": "code",
   "execution_count": 2,
   "id": "respiratory-anime",
   "metadata": {},
   "outputs": [
    {
     "name": "stdout",
     "output_type": "stream",
     "text": [
      "/Users/satouwataru/Desktop/DiveIntoCode/git/diveintocode-ml/GraduationWork/v1\n"
     ]
    }
   ],
   "source": [
    "cd .."
   ]
  },
  {
   "cell_type": "code",
   "execution_count": 30,
   "id": "tropical-jonathan",
   "metadata": {},
   "outputs": [],
   "source": [
    "import numpy as np\n",
    "import pandas as pd\n",
    "from sklearn.model_selection import train_test_split\n",
    "import optuna.integration.lightgbm as lgb_o\n",
    "from sklearn.metrics import mean_squared_error"
   ]
  },
  {
   "cell_type": "code",
   "execution_count": 39,
   "id": "talented-photograph",
   "metadata": {},
   "outputs": [],
   "source": [
    "class model():\n",
    "    \n",
    "    def __init__(self, train_columns, stats_columns):\n",
    "        self.model_dict = {}\n",
    "        # ['年月日', '節', 'H_勝点', 'H_試合', 'H_勝', 'H_分', 'H_敗', 'H_得点', 'H_失点', 'H_得失点差', 'H_rest_days', 'A_勝点', 'A_試合', 'A_勝', 'A_分', 'A_敗', 'A_得点', 'A_失点', 'A_得失点差', 'A_rest_days', 'キックオフ時', 'J1_flg', 'J2_flg', 'J3_flg', 'H_DF', 'H_MF', 'H_FW', 'A_DF', 'A_MF', 'A_FW', 'H_Team', 'A_Team', 'H_監督', 'A_監督']\n",
    "        self.train_columns = train_columns\n",
    "        # ['H_シュート', 'H_枠内シュート', 'H_PKによるシュート', 'H_直接ＦＫ', 'H_間接ＦＫ', 'H_ＣＫ', 'H_クリア', 'H_インターセプト', 'H_オフサイド', 'H_３０ｍライン進入', 'H_ペナルティエリア進入', 'H_攻撃回数', 'H_チャンス構築率', 'H_ボール支配率', 'A_シュート', 'A_枠内シュート', 'A_PKによるシュート', 'A_直接ＦＫ', 'A_間接ＦＫ', 'A_ＣＫ', 'A_クリア', 'A_インターセプト', 'A_オフサイド', 'A_３０ｍライン進入', 'A_ペナルティエリア進入', 'A_攻撃回数', 'A_チャンス構築率', 'A_ボール支配率', 'H_成功したパス', 'H_失敗したパス', 'H_成功したクロス', 'H_失敗したクロス', 'H_成功したスローイン', 'H_失敗したスローイン', 'H_成功したドリブル', 'H_失敗したドリブル', 'H_成功したタックル', 'H_失敗したタックル', 'A_成功したパス', 'A_失敗したパス', 'A_成功したクロス', 'A_失敗したクロス', 'A_成功したスローイン', 'A_失敗したスローイン', 'A_成功したドリブル', 'A_失敗したドリブル', 'A_成功したタックル', 'A_失敗したタックル']\n",
    "        self.stats_columns = stats_columns\n",
    "        \n",
    "    def fit(self, yyyyMMdd):\n",
    "        data = pd.read_csv(\"data/model/preprocessing.csv\", index_col=0).reset_index(drop = True)\n",
    "        \n",
    "        df = data[data['年月日'] < yyyyMMdd]\n",
    "        \n",
    "        train, val = train_test_split(df, train_size=0.80)\n",
    "        test = data[data['年月日'] >= yyyyMMdd]\n",
    "        \n",
    "        x_train = train[self.train_columns]\n",
    "        x_val = val[self.train_columns]\n",
    "        x_test = test[train_columns]\n",
    "\n",
    "        for y_col in self.stats_columns:\n",
    "\n",
    "            y_train = train[y_col]\n",
    "            y_val = val[y_col]\n",
    "            y_test = test[y_col]\n",
    "\n",
    "            lgb_train = lgb_o.Dataset(x_train, y_train)\n",
    "            lgb_eval = lgb_o.Dataset(x_val, y_val) \n",
    "            # LightGBM parameters\n",
    "            params = {\n",
    "                'objective': 'regression', # 回帰  \n",
    "                'metric': 'rmse', # rsme(平均二乗誤差の平方根) \n",
    "            }\n",
    "            # モデルの学習\n",
    "            model = lgb_o.train(params,\n",
    "                              train_set=lgb_train,\n",
    "                              valid_sets=lgb_eval,\n",
    "                              early_stopping_rounds=100,\n",
    "                              verbose_eval=200,\n",
    "                              )\n",
    "\n",
    "            self.model_dict[y_col] = model\n",
    "            \n",
    "            # テストデータの予測\n",
    "            y_pred = model.predict(x_test, num_iteration=model.best_iteration)\n",
    "\n",
    "            # rmse : 平均二乗誤差の平方根\n",
    "            mse = mean_squared_error(y_test, y_pred) # MSE(平均二乗誤差)の算出\n",
    "            rmse = np.sqrt(mse) # RSME = √MSEの算出\n",
    "            print(y_col,' rmse : ', rmse)\n",
    "        \n",
    "    def predict(self, x_test):\n",
    "        \n",
    "        result_df = None\n",
    "        for y_col in self.stats_columns:\n",
    "            model = self.model_dict[y_col]\n",
    "            y_pred = model.predict(x_test, num_iteration=model.best_iteration)\n",
    "            df = pd.DataFrame(y_pred, columns = [y_col])\n",
    "            result_df = pd.concat([result_df, df], axis = 1)\n",
    "        return result_df"
   ]
  },
  {
   "cell_type": "code",
   "execution_count": null,
   "id": "vital-commercial",
   "metadata": {},
   "outputs": [],
   "source": []
  }
 ],
 "metadata": {
  "kernelspec": {
   "display_name": "Python 3",
   "language": "python",
   "name": "python3"
  },
  "language_info": {
   "codemirror_mode": {
    "name": "ipython",
    "version": 3
   },
   "file_extension": ".py",
   "mimetype": "text/x-python",
   "name": "python",
   "nbconvert_exporter": "python",
   "pygments_lexer": "ipython3",
   "version": "3.8.8"
  }
 },
 "nbformat": 4,
 "nbformat_minor": 5
}

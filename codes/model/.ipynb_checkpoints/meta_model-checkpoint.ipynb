{
 "cells": [
  {
   "cell_type": "code",
   "execution_count": 1,
   "id": "comparative-psychiatry",
   "metadata": {},
   "outputs": [
    {
     "name": "stdout",
     "output_type": "stream",
     "text": [
      "/Users/satouwataru/Desktop/DiveIntoCode/git/diveintocode-ml/GraduationWork/v4/codes\n"
     ]
    }
   ],
   "source": [
    "cd .."
   ]
  },
  {
   "cell_type": "code",
   "execution_count": 2,
   "id": "former-world",
   "metadata": {},
   "outputs": [
    {
     "name": "stdout",
     "output_type": "stream",
     "text": [
      "/Users/satouwataru/Desktop/DiveIntoCode/git/diveintocode-ml/GraduationWork/v4\n"
     ]
    }
   ],
   "source": [
    "cd .."
   ]
  },
  {
   "cell_type": "code",
   "execution_count": null,
   "id": "cross-karen",
   "metadata": {},
   "outputs": [],
   "source": []
  },
  {
   "cell_type": "code",
   "execution_count": 3,
   "id": "sustained-baking",
   "metadata": {},
   "outputs": [],
   "source": [
    "import numpy as np\n",
    "import pandas as pd\n",
    "import codes.common as c\n",
    "from sklearn.model_selection import train_test_split\n",
    "import optuna\n",
    "from sklearn.metrics import mean_squared_error\n",
    "import pickle\n",
    "import xgboost as xgb\n",
    "'''\n",
    "model : rightGBM\n",
    "description:試合結果の3値分類（勝分敗）\n",
    "''' \n",
    "class model():\n",
    "    def __init__(self, x_train, y_train, x_val, y_val, x_test):\n",
    "        self.common = c.common()\n",
    "        self.common.PY_NAME = 'meta_model'\n",
    "        self.y_col = 'y_H_result'\n",
    "        \n",
    "        self.x_train, self.x_val, self.x_test = x_train, x_val, x_test\n",
    "        self.y_train, self.y_val = y_train, y_val\n",
    "        self.model = None\n",
    "        self.f_model_name = None\n",
    "        \n",
    "    def get_y_pred(self):\n",
    "        \n",
    "        self.set_model()\n",
    "        \n",
    "        y_pred, y_pred_proba = self.predict()\n",
    "        \n",
    "        df_y = pd.concat([pd.DataFrame(y_pred_proba, columns = ['proba_0', 'proba_1', 'proba_2']), pd.DataFrame(y_pred, columns = ['pred'])], axis = 1)\n",
    "        \n",
    "        return df_y\n",
    "        \n",
    "    def predict(self):\n",
    "        dtest = xgb.DMatrix(self.x_test)\n",
    "        y_pred_proba = self.model.predict(dtest)\n",
    "        y_pred = np.argmax(y_pred_proba, axis=1)\n",
    "        return y_pred, y_pred_proba\n",
    "    \n",
    "    def set_model(self):\n",
    "        year = str(self.x_test[:1]['年月日'].values[0])[:4]\n",
    "        self.f_model_name = 'data/model/meta_model/model_for_' + year +'.sav'\n",
    "        try:\n",
    "            self.model = pickle.load(open(self.f_model_name, 'rb'))\n",
    "        except:\n",
    "            self.fit()\n",
    "            \n",
    "    def fit(self):\n",
    "        self.dtrain = xgb.DMatrix(self.x_train, label=self.y_train)\n",
    "        dval = xgb.DMatrix(self.x_val, label=self.y_val)\n",
    "        study = optuna.create_study()\n",
    "        study.optimize(self.objective, n_trials=100)#50)\n",
    "        \n",
    "        trial = study.best_trial\n",
    "        \n",
    "        self.params[\"max_depth\"] = trial.params[\"max_depth\"]\n",
    "        self.params[\"eta\"] = trial.params[\"eta\"]\n",
    "\n",
    "        model = xgb.train(params=self.params,\n",
    "                  dtrain=self.dtrain,\n",
    "                  num_boost_round=1000,\n",
    "                  early_stopping_rounds=5,\n",
    "                  evals=[(dval, \"test\")])\n",
    "\n",
    "        self.model = model\n",
    "        # 保存\n",
    "        pickle.dump(self.model, open(self.f_model_name, 'wb'))\n",
    "        # Accuracy の計算\n",
    "        y_pred_proba = self.model.predict(dval)\n",
    "        y_pred = np.argmax(y_pred_proba, axis=1)\n",
    "        accuracy = sum(self.y_val == y_pred) / len(self.y_val)\n",
    "        print('accuracy:', accuracy)\n",
    "        \n",
    "    def objective(self, trial):\n",
    "        self.params = {\n",
    "            \"silent\": 1,\n",
    "            \"max_depth\": trial.suggest_int(\"max_depth\", 1, 9),\n",
    "            \"min_child_weight\": 1,\n",
    "            \"eta\": trial.suggest_loguniform(\"eta\", 0.01, 1.0),\n",
    "            \"tree_method\": \"exact\",\n",
    "            \"objective\": \"multi:softprob\",\n",
    "            \"num_class\": 3,\n",
    "            \"predictor\": \"cpu_predictor\"  \n",
    "        }\n",
    "        cv_results = xgb.cv(\n",
    "            self.params,\n",
    "            self.dtrain,\n",
    "            num_boost_round=1000,\n",
    "            seed=0,\n",
    "            nfold=5, # CVの分割数\n",
    "#             metrics={\"rmse\"},\n",
    "            early_stopping_rounds=200\n",
    "        )\n",
    "        return cv_results[\"test-merror-mean\"].min()"
   ]
  },
  {
   "cell_type": "code",
   "execution_count": 4,
   "id": "electoral-dodge",
   "metadata": {},
   "outputs": [
    {
     "ename": "TypeError",
     "evalue": "__init__() missing 5 required positional arguments: 'x_train', 'y_train', 'x_val', 'y_val', and 'x_test'",
     "output_type": "error",
     "traceback": [
      "\u001b[0;31m---------------------------------------------------------------------------\u001b[0m",
      "\u001b[0;31mTypeError\u001b[0m                                 Traceback (most recent call last)",
      "\u001b[0;32m<ipython-input-4-f623b4291ca7>\u001b[0m in \u001b[0;36m<module>\u001b[0;34m\u001b[0m\n\u001b[0;32m----> 1\u001b[0;31m \u001b[0mm\u001b[0m \u001b[0;34m=\u001b[0m \u001b[0mmodel\u001b[0m\u001b[0;34m(\u001b[0m\u001b[0;34m)\u001b[0m\u001b[0;34m\u001b[0m\u001b[0;34m\u001b[0m\u001b[0m\n\u001b[0m\u001b[1;32m      2\u001b[0m \u001b[0mdf\u001b[0m \u001b[0;34m=\u001b[0m \u001b[0mm\u001b[0m\u001b[0;34m.\u001b[0m\u001b[0mget_y_pred\u001b[0m\u001b[0;34m(\u001b[0m\u001b[0;34m)\u001b[0m\u001b[0;34m\u001b[0m\u001b[0;34m\u001b[0m\u001b[0m\n",
      "\u001b[0;31mTypeError\u001b[0m: __init__() missing 5 required positional arguments: 'x_train', 'y_train', 'x_val', 'y_val', and 'x_test'"
     ]
    }
   ],
   "source": [
    "m = model()\n",
    "df = m.get_y_pred()"
   ]
  },
  {
   "cell_type": "code",
   "execution_count": null,
   "id": "responsible-davis",
   "metadata": {},
   "outputs": [],
   "source": [
    "df"
   ]
  },
  {
   "cell_type": "code",
   "execution_count": null,
   "id": "unlike-cursor",
   "metadata": {},
   "outputs": [],
   "source": []
  }
 ],
 "metadata": {
  "kernelspec": {
   "display_name": "Python 3",
   "language": "python",
   "name": "python3"
  },
  "language_info": {
   "codemirror_mode": {
    "name": "ipython",
    "version": 3
   },
   "file_extension": ".py",
   "mimetype": "text/x-python",
   "name": "python",
   "nbconvert_exporter": "python",
   "pygments_lexer": "ipython3",
   "version": "3.8.8"
  }
 },
 "nbformat": 4,
 "nbformat_minor": 5
}

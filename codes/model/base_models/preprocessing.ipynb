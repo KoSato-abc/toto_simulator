{
 "cells": [
  {
   "cell_type": "code",
   "execution_count": 1,
   "id": "lesser-colonial",
   "metadata": {},
   "outputs": [
    {
     "name": "stdout",
     "output_type": "stream",
     "text": [
      "/Users/satouwataru/Desktop/DiveIntoCode/git/diveintocode-ml/GraduationWork/v4/codes/model\n"
     ]
    }
   ],
   "source": [
    "cd .."
   ]
  },
  {
   "cell_type": "code",
   "execution_count": 2,
   "id": "smooth-rapid",
   "metadata": {},
   "outputs": [
    {
     "name": "stdout",
     "output_type": "stream",
     "text": [
      "/Users/satouwataru/Desktop/DiveIntoCode/git/diveintocode-ml/GraduationWork/v4/codes\n"
     ]
    }
   ],
   "source": [
    "cd .."
   ]
  },
  {
   "cell_type": "code",
   "execution_count": 3,
   "id": "eligible-romantic",
   "metadata": {},
   "outputs": [
    {
     "name": "stdout",
     "output_type": "stream",
     "text": [
      "/Users/satouwataru/Desktop/DiveIntoCode/git/diveintocode-ml/GraduationWork/v4\n"
     ]
    }
   ],
   "source": [
    "cd .."
   ]
  },
  {
   "cell_type": "code",
   "execution_count": 4,
   "id": "beneficial-protection",
   "metadata": {},
   "outputs": [],
   "source": [
    "import numpy as np\n",
    "import pandas as pd\n",
    "from sklearn.model_selection import train_test_split\n",
    "import codes.common as c\n",
    "\n",
    "class preprocessing():\n",
    "    def __init__(self):\n",
    "        self.common = c.common()\n",
    "        self.common.PY_NAME = 'preprocessing'\n",
    "        \n",
    "    '''\n",
    "    test_keys\n",
    "    [[年月日, チーム名]]\n",
    "    example : [[20210623, '横浜Ｆ・マリノス'], [20210620, '鹿島アントラーズ'], [20210620, '浦和レッズ']]\n",
    "    '''\n",
    "    def all_preprocessing(self, test_keys):\n",
    "        self.common.write_log(msg = '前処理１を実行')\n",
    "        self.preprocessing1(test_keys)\n",
    "        \n",
    "    def preprocessing1(self, test_keys):\n",
    "        min_date = 99999999\n",
    "        for date, team in test_keys:\n",
    "            if date < min_date:\n",
    "                min_date = date\n",
    "        columns_x = ['年度', '年月日', 'カテゴリ', '節', 'H_team', 'A_team', 'スタジアム', 'K/O時刻', 'H_rest_days', 'A_rest_days', 'H_監督', 'A_監督', 'H_ポジション1', 'H_選手1', 'H_ポジション2', 'H_選手2', 'H_ポジション3', 'H_選手3', 'H_ポジション4', 'H_選手4', 'H_ポジション5', 'H_選手5', 'H_ポジション6', 'H_選手6', 'H_ポジション7', 'H_選手7', 'H_ポジション8', 'H_選手8', 'H_ポジション9', 'H_選手9', 'H_ポジション10', 'H_選手10', 'H_ポジション11', 'H_選手11', 'A_ポジション1', 'A_選手1', 'A_ポジション2', 'A_選手2', 'A_ポジション3', 'A_選手3', 'A_ポジション4', 'A_選手4', 'A_ポジション5', 'A_選手5', 'A_ポジション6', 'A_選手6', 'A_ポジション7', 'A_選手7', 'A_ポジション8', 'A_選手8', 'A_ポジション9', 'A_選手9', 'A_ポジション10', 'A_選手10', 'A_ポジション11', 'A_選手11', 'H_順位', 'H_勝点', 'H_試合', 'H_勝', 'H_分', 'H_敗', 'H_得点', 'H_失点', 'H_得失点差', 'A_順位', 'A_勝点', 'A_試合', 'A_勝', 'A_分', 'A_敗', 'A_得点', 'A_失点', 'A_得失点差', 'train_test']\n",
    "        columns_y = ['y_H_goal', 'y_A_goal', 'y_goal_deff', 'y_even_flg', 'y_H_result']\n",
    "        \n",
    "        # trainデータ読み込み\n",
    "        df_train = pd.read_csv('data/marge/marge_for_train.csv', index_col=0)[columns_x + columns_y]\n",
    "        df_train = df_train[df_train['年月日'] < min_date].reset_index(drop = True)\n",
    "        # testデータ読み込み\n",
    "        df_tmp = pd.read_csv('data/marge/marge_for_test.csv', index_col=0)[columns_x]\n",
    "        df_test = None\n",
    "        for keys in test_keys:\n",
    "            df_test = pd.concat([df_test, df_tmp[(df_tmp['年月日'] ==  keys[0])&(df_tmp['H_team'] ==  keys[1])]])\n",
    "        df_test = df_test.reset_index(drop = True)\n",
    "        # 結合\n",
    "        df = pd.concat([df_train, df_test])\n",
    "\n",
    "        # H_team、A_teamをカウントエンコーディング\n",
    "        team_list = [df['H_team'].values] + [df['A_team'].values]\n",
    "        team_names, team_counts = np.unique(team_list, return_counts = True)\n",
    "        continue_flg = True\n",
    "        while continue_flg: # カテゴリ型にも対応させるため重複をなくすループ\n",
    "            for i in range(len(team_counts)):\n",
    "                if np.count_nonzero(team_counts == team_counts[i]) != 1:\n",
    "                    team_counts[i] = team_counts[i] + 1\n",
    "            if np.count_nonzero(1 != np.unique(team_counts, return_counts = True)[1]) ==0:\n",
    "                continue_flg = False\n",
    "        df['H_team'] = df['H_team'].apply(lambda x : team_counts[np.where(team_names == x)[0][0]])\n",
    "        df['A_team'] = df['A_team'].apply(lambda x : team_counts[np.where(team_names == x)[0][0]])\n",
    "\n",
    "        # H_監督、A_監督をカウントエンコーディング\n",
    "        coach_list = [df['H_監督'].values] + [df['A_監督'].values]\n",
    "        coach_names, coach_counts = np.unique(coach_list, return_counts = True)\n",
    "        continue_flg = True\n",
    "        while continue_flg: # カテゴリ型にも対応させるため重複をなくすループ\n",
    "            for i in range(len(coach_counts)):\n",
    "                if np.count_nonzero(coach_counts == coach_counts[i]) != 1:\n",
    "                    coach_counts[i] = coach_counts[i] + 1\n",
    "            if np.count_nonzero(1 != np.unique(coach_counts, return_counts = True)[1]) ==0:\n",
    "                continue_flg = False\n",
    "        df['H_監督'] = df['H_監督'].apply(lambda x : coach_counts[np.where(coach_names == x)[0][0]])\n",
    "        df['A_監督'] = df['A_監督'].apply(lambda x : coach_counts[np.where(coach_names == x)[0][0]])\n",
    "        \n",
    "        # カテゴリ列の文字列を削除\n",
    "        df['カテゴリ'] = df['カテゴリ'].apply(lambda x : x.replace('J', ''))\n",
    "        # K/O時刻の分を削除\n",
    "        df['K/O時刻'] = df['K/O時刻'].apply(lambda x : x[:2])\n",
    "        # ポジション列をまとめる\n",
    "        h_positions = ['H_ポジション1', 'H_ポジション2', 'H_ポジション3', 'H_ポジション4', 'H_ポジション5', 'H_ポジション6', 'H_ポジション7', 'H_ポジション8', 'H_ポジション9', 'H_ポジション10', 'H_ポジション11']\n",
    "        a_positions = ['A_ポジション1', 'A_ポジション2', 'A_ポジション3', 'A_ポジション4', 'A_ポジション5', 'A_ポジション6', 'A_ポジション7', 'A_ポジション8', 'A_ポジション9', 'A_ポジション10', 'A_ポジション11']\n",
    "        df['H_GK'] = (df[h_positions] == 'GK').sum(axis=1)\n",
    "        df['H_DF'] = (df[h_positions] == 'DF').sum(axis=1)\n",
    "        df['H_MF'] = (df[h_positions] == 'MF').sum(axis=1)\n",
    "        df['H_FW'] = (df[h_positions] == 'FW').sum(axis=1)\n",
    "        df['A_GK'] = (df[a_positions] == 'GK').sum(axis=1)\n",
    "        df['A_DF'] = (df[a_positions] == 'DF').sum(axis=1)\n",
    "        df['A_MF'] = (df[a_positions] == 'MF').sum(axis=1)\n",
    "        df['A_FW'] = (df[a_positions] == 'FW').sum(axis=1)\n",
    "        # 今年度のトレインデータを削除\n",
    "        df = df[(df['年度'] < int(str(min_date)[:4]))|(df['train_test'] == 'test')]\n",
    "        # 不要な列を削除\n",
    "        player_cols = []\n",
    "        for head in ['H_', 'A_']:\n",
    "            for i in range(1, 12):\n",
    "                player_cols += [head + '選手' + str(i)]\n",
    "        drop_columns = ['年度', 'スタジアム'] + h_positions + a_positions + player_cols\n",
    "        df.drop(columns = drop_columns, inplace = True)\n",
    "        # 欠損値を0埋め(testデータの目的変数)\n",
    "        df = df.fillna(0)\n",
    "        # intに変換\n",
    "        df['train_test'] = df['train_test'].apply(lambda x : x.replace('train', '0'))\n",
    "        df['train_test'] = df['train_test'].apply(lambda x : x.replace('test', '1'))\n",
    "        df = df.astype(int)\n",
    "        df['train_test'] = df['train_test'].apply(lambda x : str(x).replace('0', 'train'))\n",
    "        df['train_test'] = df['train_test'].apply(lambda x : str(x).replace('1', 'test'))\n",
    "        # 出力\n",
    "        df.to_csv(\"data/model/base_models/preprocessing/preprocessed_1.csv\")"
   ]
  },
  {
   "cell_type": "code",
   "execution_count": 5,
   "id": "better-fraud",
   "metadata": {},
   "outputs": [],
   "source": [
    "test_keys = [[20210623, '横浜Ｆ・マリノス'], [20210620, '鹿島アントラーズ'], [20210620, '浦和レッズ']]"
   ]
  },
  {
   "cell_type": "code",
   "execution_count": 6,
   "id": "opposed-license",
   "metadata": {},
   "outputs": [],
   "source": [
    "p = preprocessing()"
   ]
  },
  {
   "cell_type": "code",
   "execution_count": 7,
   "id": "breathing-industry",
   "metadata": {},
   "outputs": [
    {
     "name": "stdout",
     "output_type": "stream",
     "text": [
      "前処理１を実行\n"
     ]
    }
   ],
   "source": [
    "p.all_preprocessing(test_keys)"
   ]
  }
 ],
 "metadata": {
  "kernelspec": {
   "display_name": "Python 3",
   "language": "python",
   "name": "python3"
  },
  "language_info": {
   "codemirror_mode": {
    "name": "ipython",
    "version": 3
   },
   "file_extension": ".py",
   "mimetype": "text/x-python",
   "name": "python",
   "nbconvert_exporter": "python",
   "pygments_lexer": "ipython3",
   "version": "3.8.8"
  }
 },
 "nbformat": 4,
 "nbformat_minor": 5
}

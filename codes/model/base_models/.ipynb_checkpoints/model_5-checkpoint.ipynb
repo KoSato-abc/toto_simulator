{
 "cells": [
  {
   "cell_type": "code",
   "execution_count": 1,
   "id": "comparative-psychiatry",
   "metadata": {},
   "outputs": [
    {
     "name": "stdout",
     "output_type": "stream",
     "text": [
      "/Users/satouwataru/Desktop/DiveIntoCode/git/diveintocode-ml/GraduationWork/v4/codes/model\n"
     ]
    }
   ],
   "source": [
    "cd .."
   ]
  },
  {
   "cell_type": "code",
   "execution_count": 2,
   "id": "secondary-negotiation",
   "metadata": {},
   "outputs": [
    {
     "name": "stdout",
     "output_type": "stream",
     "text": [
      "/Users/satouwataru/Desktop/DiveIntoCode/git/diveintocode-ml/GraduationWork/v4/codes\n"
     ]
    }
   ],
   "source": [
    "cd .."
   ]
  },
  {
   "cell_type": "code",
   "execution_count": 3,
   "id": "former-world",
   "metadata": {},
   "outputs": [
    {
     "name": "stdout",
     "output_type": "stream",
     "text": [
      "/Users/satouwataru/Desktop/DiveIntoCode/git/diveintocode-ml/GraduationWork/v4\n"
     ]
    }
   ],
   "source": [
    "cd .."
   ]
  },
  {
   "cell_type": "code",
   "execution_count": 4,
   "id": "cross-karen",
   "metadata": {},
   "outputs": [],
   "source": []
  },
  {
   "cell_type": "code",
   "execution_count": 5,
   "id": "appreciated-article",
   "metadata": {},
   "outputs": [],
   "source": [
    "import numpy as np\n",
    "import pandas as pd\n",
    "import codes.common as c\n",
    "from sklearn.model_selection import train_test_split\n",
    "from sklearn.neighbors import KNeighborsClassifier\n",
    "import pickle\n",
    "\n",
    "'''\n",
    "model : KNeighborsClassifier\n",
    "description:試合結果の2値分類（分、その他）\n",
    "''' \n",
    "class model():\n",
    "    def __init__(self):\n",
    "        self.common = c.common()\n",
    "        self.common.PY_NAME = 'model_5'\n",
    "        self.y_col = 'y_even_flg'\n",
    "        \n",
    "        self.x_train, self.x_val, self.x_test = None, None, None\n",
    "        self.y_train, self.y_val = None, None\n",
    "        self.model = None\n",
    "        self.f_model_name = None\n",
    "        \n",
    "    def get_y_pred(self):\n",
    "        \n",
    "        self.preprocessing()\n",
    "        \n",
    "        self.set_model()\n",
    "        \n",
    "        y_pred = self.predict()\n",
    "        df_y = pd.DataFrame(y_pred, columns = ['pred_m5'])\n",
    "        \n",
    "        return df_y\n",
    "        \n",
    "    def predict(self):\n",
    "        y_pred = self.model.predict(self.x_test)\n",
    "        return y_pred\n",
    "    \n",
    "    def set_model(self):\n",
    "        year = str(self.x_test[:1]['年月日'].values[0])[:4]\n",
    "        self.f_model_name = 'data/model/base_models/model_5/model_for_' + year +'.sav'\n",
    "        try:\n",
    "            self.model = pickle.load(open(self.f_model_name, 'rb'))\n",
    "        except:\n",
    "            self.fit()\n",
    "            \n",
    "    def fit(self):\n",
    "        # 学習\n",
    "        model = KNeighborsClassifier(n_neighbors=2)\n",
    "        model.fit(self.x_train, self.y_train)\n",
    "\n",
    "        self.model = model\n",
    "        # 保存\n",
    "        pickle.dump(self.model, open(self.f_model_name, 'wb'))\n",
    "        # Accuracy の計算\n",
    "        y_pred = self.model.predict(self.x_val)\n",
    "        accuracy = sum(self.y_val == y_pred) / len(self.y_val)\n",
    "        print('accuracy:', accuracy)\n",
    "\n",
    "    def preprocessing(self):\n",
    "        # 読み込み\n",
    "        df = pd.read_csv(\"data/model/base_models/preprocessing/preprocessed_1.csv\", index_col=0)\n",
    "        # カテゴリ列処理\n",
    "        category_columns = ['カテゴリ', 'H_team', 'A_team', 'H_監督', 'A_監督']\n",
    "        df[category_columns] = df[category_columns].astype('category')\n",
    "        # 引き分けとその他のデータ数を揃える\n",
    "        train = df[df['train_test']=='train'].drop(columns = ['train_test'])\n",
    "        train = train[train['y_goal_deff'] < 2].sort_values('年月日', ascending=False)\n",
    "        train_0 = train[train['y_H_result'] == 0]\n",
    "        train_1 = train[train['y_H_result'] == 1]\n",
    "        train_2 = train[train['y_H_result'] == 2]\n",
    "        n_row_0 = train_0.shape[0]\n",
    "        n_row_1 = train_1.shape[0]\n",
    "        n_row_2 = train_2.shape[0]\n",
    "        n_row = min(min(n_row_1,n_row_2)*2, n_row_0)\n",
    "        train = pd.concat([train_0.iloc[:n_row], train_1.iloc[:n_row//2], train_2.iloc[:n_row//2]])\n",
    "        # 不要な列を削除\n",
    "        train = self.common.drop_y_col(train, self.y_col)\n",
    "        # train, val, testに分割\n",
    "        x_train = train.drop(columns = self.y_col)\n",
    "        y_train = train[self.y_col]\n",
    "        self.x_train, self.x_val, self.y_train, self.y_val = train_test_split(x_train, y_train, stratify = y_train)\n",
    "        \n",
    "        test = df[df['train_test']=='test'].drop(columns = ['train_test'])\n",
    "        test = self.common.drop_y_col(test, self.y_col)\n",
    "        self.x_test = test.drop(columns = self.y_col)"
   ]
  },
  {
   "cell_type": "code",
   "execution_count": 6,
   "id": "electoral-dodge",
   "metadata": {},
   "outputs": [
    {
     "name": "stdout",
     "output_type": "stream",
     "text": [
      "accuracy: 0.7220216606498195\n"
     ]
    }
   ],
   "source": [
    "m = model()\n",
    "df = m.get_y_pred()"
   ]
  },
  {
   "cell_type": "code",
   "execution_count": 7,
   "id": "welcome-satin",
   "metadata": {},
   "outputs": [
    {
     "data": {
      "text/html": [
       "<div>\n",
       "<style scoped>\n",
       "    .dataframe tbody tr th:only-of-type {\n",
       "        vertical-align: middle;\n",
       "    }\n",
       "\n",
       "    .dataframe tbody tr th {\n",
       "        vertical-align: top;\n",
       "    }\n",
       "\n",
       "    .dataframe thead th {\n",
       "        text-align: right;\n",
       "    }\n",
       "</style>\n",
       "<table border=\"1\" class=\"dataframe\">\n",
       "  <thead>\n",
       "    <tr style=\"text-align: right;\">\n",
       "      <th></th>\n",
       "      <th>pred_m5</th>\n",
       "    </tr>\n",
       "  </thead>\n",
       "  <tbody>\n",
       "    <tr>\n",
       "      <th>0</th>\n",
       "      <td>0</td>\n",
       "    </tr>\n",
       "    <tr>\n",
       "      <th>1</th>\n",
       "      <td>0</td>\n",
       "    </tr>\n",
       "    <tr>\n",
       "      <th>2</th>\n",
       "      <td>0</td>\n",
       "    </tr>\n",
       "  </tbody>\n",
       "</table>\n",
       "</div>"
      ],
      "text/plain": [
       "   pred_m5\n",
       "0        0\n",
       "1        0\n",
       "2        0"
      ]
     },
     "execution_count": 7,
     "metadata": {},
     "output_type": "execute_result"
    }
   ],
   "source": [
    "df"
   ]
  },
  {
   "cell_type": "code",
   "execution_count": null,
   "id": "liked-correspondence",
   "metadata": {},
   "outputs": [],
   "source": []
  }
 ],
 "metadata": {
  "kernelspec": {
   "display_name": "Python 3",
   "language": "python",
   "name": "python3"
  },
  "language_info": {
   "codemirror_mode": {
    "name": "ipython",
    "version": 3
   },
   "file_extension": ".py",
   "mimetype": "text/x-python",
   "name": "python",
   "nbconvert_exporter": "python",
   "pygments_lexer": "ipython3",
   "version": "3.8.8"
  }
 },
 "nbformat": 4,
 "nbformat_minor": 5
}
